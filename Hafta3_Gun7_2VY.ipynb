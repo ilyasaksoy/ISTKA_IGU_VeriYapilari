{
  "nbformat": 4,
  "nbformat_minor": 0,
  "metadata": {
    "colab": {
      "provenance": [],
      "authorship_tag": "ABX9TyOytGmn5JXzOBK8+HIplwWi",
      "include_colab_link": true
    },
    "kernelspec": {
      "name": "python3",
      "display_name": "Python 3"
    },
    "language_info": {
      "name": "python"
    }
  },
  "cells": [
    {
      "cell_type": "markdown",
      "metadata": {
        "id": "view-in-github",
        "colab_type": "text"
      },
      "source": [
        "<a href=\"https://colab.research.google.com/github/ilyasaksoy/ISTKA_IGU_VeriYapilari/blob/main/Hafta3_Gun7_2VY.ipynb\" target=\"_parent\"><img src=\"https://colab.research.google.com/assets/colab-badge.svg\" alt=\"Open In Colab\"/></a>"
      ]
    },
    {
      "cell_type": "code",
      "execution_count": 1,
      "metadata": {
        "colab": {
          "base_uri": "https://localhost:8080/"
        },
        "id": "1VMOX3sGHf0Q",
        "outputId": "c72b5883-1c63-4131-8864-4d069bf7a6d5"
      },
      "outputs": [
        {
          "output_type": "stream",
          "name": "stdout",
          "text": [
            "Merhaba İGÜ - İSTKA-Ders 7\n"
          ]
        }
      ],
      "source": [
        "print(\"Merhaba İGÜ - İSTKA-Ders 7\")"
      ]
    },
    {
      "cell_type": "code",
      "source": [
        "import sys\n",
        "print(sys.version)"
      ],
      "metadata": {
        "colab": {
          "base_uri": "https://localhost:8080/"
        },
        "id": "jwqafZxOMGKJ",
        "outputId": "6375e922-7d0b-48a4-aa0f-3d7c712b1f35"
      },
      "execution_count": 2,
      "outputs": [
        {
          "output_type": "stream",
          "name": "stdout",
          "text": [
            "3.10.12 (main, Jul 29 2024, 16:56:48) [GCC 11.4.0]\n"
          ]
        }
      ]
    },
    {
      "cell_type": "code",
      "source": [
        "from google.colab import drive\n",
        "\n",
        "drive.mount('/content/drive/')"
      ],
      "metadata": {
        "colab": {
          "base_uri": "https://localhost:8080/"
        },
        "id": "7peOV01qMJPO",
        "outputId": "944d30e2-78e8-4013-bfbe-4f4096961f42"
      },
      "execution_count": 4,
      "outputs": [
        {
          "output_type": "stream",
          "name": "stdout",
          "text": [
            "Mounted at /content/drive/\n"
          ]
        }
      ]
    },
    {
      "cell_type": "code",
      "source": [
        "import os\n",
        "\n",
        "os.chdir('/content/drive/My Drive/VERIYAPILARI_ISTKA')\n",
        "\n",
        "!pwd"
      ],
      "metadata": {
        "colab": {
          "base_uri": "https://localhost:8080/"
        },
        "id": "7dsM0O51MleY",
        "outputId": "3fdbdedb-ff81-4764-ecf7-71978d1e2686"
      },
      "execution_count": 6,
      "outputs": [
        {
          "output_type": "stream",
          "name": "stdout",
          "text": [
            "/content/drive/My Drive/VERIYAPILARI_ISTKA\n"
          ]
        }
      ]
    },
    {
      "cell_type": "code",
      "source": [
        "#S-1) Aşağıda bir isim listesi verilmiştir. Bu liste içindeki en uzun ismi ve bu ismin listenin içindeki indeksini bulan iki ayrı Python fonksiyonu yazın.\n",
        "isim_listesi = [\"Ali\", \"Şerafettin\", \"Osman\", \"İclal\", \"Ayşe\"]\n",
        "\n",
        "def EnUzunBul(liste):\n",
        "  uzunluk = liste[0]\n",
        "  for isim in liste:\n",
        "    if len(isim) > len(uzunluk):\n",
        "      uzunluk = isim\n",
        "  return uzunluk\n",
        "\n",
        "def indexBul(liste):\n",
        "  enUzunIndex = 0\n",
        "  uzunluk = liste[0]\n",
        "  for isim in liste:\n",
        "    if len(isim) > len(uzunluk):\n",
        "      uzunluk = isim\n",
        "  return liste.index(uzunluk)\n",
        "\n",
        "\n",
        "en_uzun_isim = EnUzunBul(isim_listesi)\n",
        "en_uzun_indeks = indexBul(isim_listesi)\n",
        "\n",
        "print(\"En uzun isim: \", en_uzun_isim)\n",
        "print(\"En uzun ismin adresi \", en_uzun_indeks)\n",
        "\n"
      ],
      "metadata": {
        "colab": {
          "base_uri": "https://localhost:8080/"
        },
        "id": "orh8XIXYM48J",
        "outputId": "94d0a2c2-40a5-4312-fabc-330f793483d6"
      },
      "execution_count": 21,
      "outputs": [
        {
          "output_type": "stream",
          "name": "stdout",
          "text": [
            "En uzun isim:  Şerafettin\n",
            "En uzun ismin adresi  1\n"
          ]
        }
      ]
    },
    {
      "cell_type": "code",
      "source": [
        "#S-2) 1 ile 175 arasındaki 13'e tam bölünebilen sayıları bulan ve bu\n",
        "#sayıları bir listeye ekleyen ve bu listeye kaç eleman eklendiğini bir Python programı yazınız?\n",
        "\n",
        "bolunebilenler=[]\n",
        "for sayi in range (1, 176):\n",
        "  if sayi%13==0:\n",
        "      bolunebilenler.append(sayi)\n",
        "\n",
        "print('13 sayısına tam bölünebilen sayılar: ', bolunebilenler, '\\nEleman sayısı: ', len(bolunebilenler))"
      ],
      "metadata": {
        "colab": {
          "base_uri": "https://localhost:8080/"
        },
        "id": "yLgMjlGYRT5n",
        "outputId": "5ffe1282-c638-4bfe-c454-012e5c3c7f7c"
      },
      "execution_count": 37,
      "outputs": [
        {
          "output_type": "stream",
          "name": "stdout",
          "text": [
            "13 sayısına tam bölünebilen sayılar:  [13, 26, 39, 52, 65, 78, 91, 104, 117, 130, 143, 156, 169] \n",
            "Eleman sayısı:  13\n"
          ]
        }
      ]
    },
    {
      "cell_type": "code",
      "source": [
        "import pandas as pd\n",
        "\n",
        "VeriSetiYolu = '/content/drive/My Drive/VERIYAPILARI_ISTKA/veriseti'\n",
        "\n",
        "for file in os.listdir(VeriSetiYolu):                         # Klasördeki tüm dosyaları listele\n",
        "\n",
        "    if file.endswith(('.xlsx', '.xls')):                     # Sadece Excel dosyalarını seç\n",
        "\n",
        "        df = pd.read_excel(os.path.join(VeriSetiYolu, file))  # Excel dosyasını pandas ile oku\n",
        "\n",
        "        df.to_csv(os.path.join(VeriSetiYolu, file.rsplit('.', 1)[0] + '.csv'), index=False)\n",
        "                                                               # DataFrame'i CSV formatında kaydet\n",
        "        print(f\"{file} dosyası CSV formatına çevrildi.\")     # Çevrim İşlemi Çıktısı\n"
      ],
      "metadata": {
        "colab": {
          "base_uri": "https://localhost:8080/"
        },
        "id": "1hyPy8ieXtsO",
        "outputId": "af0c7a09-20e1-4032-a9e5-b8d89f0495e1"
      },
      "execution_count": 41,
      "outputs": [
        {
          "output_type": "stream",
          "name": "stdout",
          "text": [
            "atktan-geri-kazanm-miktarlar.xlsx dosyası CSV formatına çevrildi.\n"
          ]
        }
      ]
    },
    {
      "cell_type": "code",
      "source": [
        "import os\n",
        "import pandas as pd\n",
        "\n",
        "VeriSetiYolu = '/content/drive/My Drive/VERIYAPILARI_ISTKA/veriseti'\n",
        "\n",
        "# VeriSetiYolu içindeki .csv dosyalarını bul ve say\n",
        "csv_dosyalari = [dosya for dosya in os.listdir(VeriSetiYolu) if dosya.endswith('.csv')]\n",
        "\n",
        "# .csv dosya sayısını ekrana yazdır\n",
        "csv_dosya_sayisi = len(csv_dosyalari)\n",
        "print(\"VeriSetiYolu içerisinde \",csv_dosya_sayisi, \"tane .csv dosyası bulunmaktadır.\")\n",
        "\n",
        "# Mevcut *.csv uzantılı dosyaların isimlerini getiriyoruz.\n",
        "print(\"Bulunan CSV Dosyalarının İsimleri Aşağıdadır --> \")\n",
        "for dosya in csv_dosyalari:\n",
        "    print(dosya)"
      ],
      "metadata": {
        "colab": {
          "base_uri": "https://localhost:8080/"
        },
        "id": "BT2nbEc9YP3T",
        "outputId": "ad53b10b-7655-4a51-9336-d5b20a308318"
      },
      "execution_count": 42,
      "outputs": [
        {
          "output_type": "stream",
          "name": "stdout",
          "text": [
            "VeriSetiYolu içerisinde  2 tane .csv dosyası bulunmaktadır.\n",
            "Bulunan CSV Dosyalarının İsimleri Aşağıdadır --> \n",
            "atiktangerikazanimmiktari.csv\n",
            "atktan-geri-kazanm-miktarlar.csv\n"
          ]
        }
      ]
    }
  ]
}