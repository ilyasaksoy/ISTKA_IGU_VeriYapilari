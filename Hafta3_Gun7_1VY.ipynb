{
  "cells": [
    {
      "cell_type": "markdown",
      "metadata": {
        "id": "view-in-github",
        "colab_type": "text"
      },
      "source": [
        "<a href=\"https://colab.research.google.com/github/ilyasaksoy/ISTKA_IGU_VeriYapilari/blob/main/Hafta3_Gun7_1VY.ipynb\" target=\"_parent\"><img src=\"https://colab.research.google.com/assets/colab-badge.svg\" alt=\"Open In Colab\"/></a>"
      ]
    },
    {
      "cell_type": "code",
      "source": [
        "print(\"Merhaba dünya- İSTKA_İGÜ/Ders7-2\")"
      ],
      "metadata": {
        "id": "s2GhlMiZY1By",
        "outputId": "16e447bf-7634-46fc-c214-560a5c407776",
        "colab": {
          "base_uri": "https://localhost:8080/"
        }
      },
      "execution_count": null,
      "outputs": [
        {
          "output_type": "stream",
          "name": "stdout",
          "text": [
            "Merhaba dünya- İSTKA_İGÜ/Ders7-2\n"
          ]
        }
      ]
    },
    {
      "cell_type": "code",
      "source": [
        "import sys\n",
        "print(sys.version)"
      ],
      "metadata": {
        "id": "dsXT2Y6qZHCq",
        "outputId": "f7612f56-353c-49c1-976f-5eb021cedf29",
        "colab": {
          "base_uri": "https://localhost:8080/"
        }
      },
      "execution_count": null,
      "outputs": [
        {
          "output_type": "stream",
          "name": "stdout",
          "text": [
            "3.10.12 (main, Jul 29 2024, 16:56:48) [GCC 11.4.0]\n"
          ]
        }
      ]
    },
    {
      "cell_type": "code",
      "source": [
        "from google.colab import drive\n",
        "drive.mount('/content/drive')"
      ],
      "metadata": {
        "id": "ZqDt8qX6ZLsj",
        "outputId": "12e2941c-56f5-4e51-d8a1-a0b1a7f0f919",
        "colab": {
          "base_uri": "https://localhost:8080/"
        }
      },
      "execution_count": null,
      "outputs": [
        {
          "output_type": "stream",
          "name": "stdout",
          "text": [
            "Mounted at /content/drive\n"
          ]
        }
      ]
    },
    {
      "cell_type": "code",
      "source": [
        "import os\n",
        "os.chdir('/content/drive/My Drive/VERIYAPILARI_ISTKA')"
      ],
      "metadata": {
        "id": "El1V6pcQZjOf"
      },
      "execution_count": null,
      "outputs": []
    },
    {
      "cell_type": "markdown",
      "source": [
        "**QUIZ 1-** Kullanıcıdan alınan kısa ve uzun kenar değerlerine göre dikdörtgenin alanını hesaplayan bir algoritmanın geliştirilmesi"
      ],
      "metadata": {
        "id": "gMfwn4T2Z4j2"
      }
    },
    {
      "cell_type": "code",
      "source": [
        "while True:\n",
        "  try:\n",
        "    kisaKenar = float(input('Lütfen kısa kenar değerini girinizi: '))\n",
        "    if kisaKenar < 0:\n",
        "      kisaKenar = abs(kisaKenar)\n",
        "    break\n",
        "  except ValueError:\n",
        "    print('Lütfen geçerli bir değer giriniz!')\n",
        "\n",
        "\n",
        "while True:\n",
        "  try:\n",
        "    uzunKenar = float(input('Lütfen uzun kenar değerini girinizi: '))\n",
        "    if uzunKenar < 0:\n",
        "      uzunKenar = abs(uzunKenar)\n",
        "    break\n",
        "  except ValueError:\n",
        "    print('Lütfen geçerli bir değer giriniz!')\n",
        "\n",
        "alan = kisaKenar * uzunKenar\n",
        "print('Dikdörtgen alanı : ', alan)"
      ],
      "metadata": {
        "id": "XnZNzte7btsR",
        "colab": {
          "base_uri": "https://localhost:8080/"
        },
        "outputId": "003a1eef-e0c9-4d3a-dee1-f7a6673e6b49"
      },
      "execution_count": 1,
      "outputs": [
        {
          "output_type": "stream",
          "name": "stdout",
          "text": [
            "Lütfen kısa kenar değerini girinizi: 5\n",
            "Lütfen uzun kenar değerini girinizi: 4\n",
            "Dikdörtgen alanı :  20.0\n"
          ]
        }
      ]
    },
    {
      "cell_type": "markdown",
      "source": [
        "**QUIZ 2-** 1 ile 100 arasındaki sayılardan 12'ye bölünenleri bulan Python kodu"
      ],
      "metadata": {
        "id": "hyUdxog-dA8N"
      }
    },
    {
      "cell_type": "code",
      "source": [
        "bolunebilenler = []\n",
        "for sayi in range(1,101):\n",
        "  if sayi % 12 == 0:\n",
        "    bolunebilenler.append(sayi)\n",
        "\n",
        "print('12ye tam bölünebilen sayılar: ', bolunebilenler)"
      ],
      "metadata": {
        "colab": {
          "base_uri": "https://localhost:8080/"
        },
        "id": "lcRSZ3cwdDPd",
        "outputId": "d3112167-430c-46ab-fcf6-2cafec8bd074"
      },
      "execution_count": 4,
      "outputs": [
        {
          "output_type": "stream",
          "name": "stdout",
          "text": [
            "12ye tam bölünebilen sayılar:  [12, 24, 36, 48, 60, 72, 84, 96]\n"
          ]
        }
      ]
    },
    {
      "cell_type": "code",
      "source": [
        "import pandas as pd\n",
        "from google.colab import drive\n",
        "import os\n",
        "\n",
        "drive.mount('/content/drive')\n",
        "path = '/content/drive/My Drive/VERIYAPILARI_ISTKA/veriseti/'\n",
        "\n",
        "for file in os.listdir(path):\n",
        "    if file.endswith(('.xlsx', '.xls')):\n",
        "        df = pd.read_excel(os.path.join(path, file))\n",
        "        df.to_csv(os.path.join(path, file.rsplit('.', 1)[0] + '.csv'), index=False)\n",
        "        print(f\"{file} dosyası CSV formatına çevrildi.\")"
      ],
      "metadata": {
        "colab": {
          "base_uri": "https://localhost:8080/"
        },
        "id": "oRYOOzvKeZwj",
        "outputId": "d654a7f6-c3db-4bd4-adec-e0ae1543fdb2"
      },
      "execution_count": 10,
      "outputs": [
        {
          "output_type": "stream",
          "name": "stdout",
          "text": [
            "Mounted at /content/drive\n",
            "atktan-geri-kazanm-miktarlar.xlsx dosyası CSV formatına çevrildi.\n"
          ]
        }
      ]
    },
    {
      "cell_type": "code",
      "source": [
        "csv_dosyalari = [dosya for dosya in os.listdir(path) if dosya.endswith('.csv')]\n",
        "\n",
        "csv_dosya_sayisi = len(csv_dosyalari)\n",
        "print(f\"VeriSetiYolu içerisinde {csv_dosyalari} tane .csv dosyası bulunuyor.\")\n",
        "\n",
        "print(\"Bulunan CSV Dosyaları:\")\n",
        "for dosya in csv_dosyalari:\n",
        "    print(dosya)"
      ],
      "metadata": {
        "colab": {
          "base_uri": "https://localhost:8080/"
        },
        "id": "L50ZDPWDfgfi",
        "outputId": "13a734b6-7e74-47cd-9762-38090c889028"
      },
      "execution_count": 12,
      "outputs": [
        {
          "output_type": "stream",
          "name": "stdout",
          "text": [
            "VeriSetiYolu içerisinde ['atiktangerikazanimmiktari.csv', 'atktan-geri-kazanm-miktarlar.csv'] tane .csv dosyası bulunuyor.\n",
            "Bulunan CSV Dosyaları:\n",
            "atiktangerikazanimmiktari.csv\n",
            "atktan-geri-kazanm-miktarlar.csv\n"
          ]
        }
      ]
    }
  ],
  "metadata": {
    "colab": {
      "provenance": [],
      "include_colab_link": true
    },
    "kernelspec": {
      "display_name": "Python 3",
      "name": "python3"
    }
  },
  "nbformat": 4,
  "nbformat_minor": 0
}